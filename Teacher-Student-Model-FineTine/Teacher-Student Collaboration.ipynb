{
 "cells": [
  {
   "cell_type": "markdown",
   "id": "388db47b-0168-424d-89ba-7acc9f1df657",
   "metadata": {},
   "source": [
    "# TEACHER STUDENT COLLABORATION\n",
    "\n",
    "In this colab, we will learn how to fine tune small LLM Model with help of Larger Language Model. Then in this concept, you are going to \n",
    "teach SMALL LLM Model with Larger LLM Model. \n",
    "1. Importing Necessary libraries\n",
    "2. Hugging face, pytorch\n",
    "3. Dataset Loading and Preprocessing\n",
    "4. Train , Test and Validation split from original dataset.\n",
    "5. Tokenize Dataset\n",
    "6. Prepare Training Class\n",
    "7. Train the Model\n",
    "8. Save Model for Inference\n",
    "9. Use Student and Teacher Model for Comparion of Results "
   ]
  },
  {
   "cell_type": "code",
   "execution_count": 1,
   "id": "ee1bc475-374c-4a4b-b14a-5cd33dd79e2e",
   "metadata": {},
   "outputs": [
    {
     "name": "stdout",
     "output_type": "stream",
     "text": [
      "Collecting transformers\n",
      "  Downloading transformers-4.41.1-py3-none-any.whl.metadata (43 kB)\n",
      "\u001b[2K     \u001b[90m━━━━━━━━━━━━━━━━━━━━━━━━━━━━━━━━━━━━━━━━\u001b[0m \u001b[32m43.8/43.8 kB\u001b[0m \u001b[31m1.5 MB/s\u001b[0m eta \u001b[36m0:00:00\u001b[0m\n",
      "\u001b[?25hRequirement already satisfied: filelock in /usr/local/lib/python3.11/dist-packages (from transformers) (3.14.0)\n",
      "Collecting huggingface-hub<1.0,>=0.23.0 (from transformers)\n",
      "  Downloading huggingface_hub-0.23.1-py3-none-any.whl.metadata (12 kB)\n",
      "Requirement already satisfied: numpy>=1.17 in /usr/local/lib/python3.11/dist-packages (from transformers) (1.26.4)\n",
      "Requirement already satisfied: packaging>=20.0 in /usr/local/lib/python3.11/dist-packages (from transformers) (23.2)\n",
      "Requirement already satisfied: pyyaml>=5.1 in /usr/local/lib/python3.11/dist-packages (from transformers) (6.0.1)\n",
      "Collecting regex!=2019.12.17 (from transformers)\n",
      "  Downloading regex-2024.5.15-cp311-cp311-manylinux_2_17_x86_64.manylinux2014_x86_64.whl.metadata (40 kB)\n",
      "\u001b[2K     \u001b[90m━━━━━━━━━━━━━━━━━━━━━━━━━━━━━━━━━━━━━━━━\u001b[0m \u001b[32m40.9/40.9 kB\u001b[0m \u001b[31m8.8 MB/s\u001b[0m eta \u001b[36m0:00:00\u001b[0m\n",
      "\u001b[?25hRequirement already satisfied: requests in /usr/local/lib/python3.11/dist-packages (from transformers) (2.31.0)\n",
      "Collecting tokenizers<0.20,>=0.19 (from transformers)\n",
      "  Downloading tokenizers-0.19.1-cp311-cp311-manylinux_2_17_x86_64.manylinux2014_x86_64.whl.metadata (6.7 kB)\n",
      "Collecting safetensors>=0.4.1 (from transformers)\n",
      "  Downloading safetensors-0.4.3-cp311-cp311-manylinux_2_17_x86_64.manylinux2014_x86_64.whl.metadata (3.8 kB)\n",
      "Collecting tqdm>=4.27 (from transformers)\n",
      "  Downloading tqdm-4.66.4-py3-none-any.whl.metadata (57 kB)\n",
      "\u001b[2K     \u001b[90m━━━━━━━━━━━━━━━━━━━━━━━━━━━━━━━━━━━━━━━━\u001b[0m \u001b[32m57.6/57.6 kB\u001b[0m \u001b[31m6.0 MB/s\u001b[0m eta \u001b[36m0:00:00\u001b[0m\n",
      "\u001b[?25hRequirement already satisfied: fsspec>=2023.5.0 in /usr/local/lib/python3.11/dist-packages (from huggingface-hub<1.0,>=0.23.0->transformers) (2024.5.0)\n",
      "Requirement already satisfied: typing-extensions>=3.7.4.3 in /usr/local/lib/python3.11/dist-packages (from huggingface-hub<1.0,>=0.23.0->transformers) (4.10.0)\n",
      "Requirement already satisfied: charset-normalizer<4,>=2 in /usr/local/lib/python3.11/dist-packages (from requests->transformers) (3.3.2)\n",
      "Requirement already satisfied: idna<4,>=2.5 in /usr/local/lib/python3.11/dist-packages (from requests->transformers) (3.6)\n",
      "Requirement already satisfied: urllib3<3,>=1.21.1 in /usr/local/lib/python3.11/dist-packages (from requests->transformers) (2.2.1)\n",
      "Requirement already satisfied: certifi>=2017.4.17 in /usr/local/lib/python3.11/dist-packages (from requests->transformers) (2024.2.2)\n",
      "Downloading transformers-4.41.1-py3-none-any.whl (9.1 MB)\n",
      "\u001b[2K   \u001b[90m━━━━━━━━━━━━━━━━━━━━━━━━━━━━━━━━━━━━━━━━\u001b[0m \u001b[32m9.1/9.1 MB\u001b[0m \u001b[31m10.1 MB/s\u001b[0m eta \u001b[36m0:00:00\u001b[0m00:01\u001b[0m00:01\u001b[0m\n",
      "\u001b[?25hDownloading huggingface_hub-0.23.1-py3-none-any.whl (401 kB)\n",
      "\u001b[2K   \u001b[90m━━━━━━━━━━━━━━━━━━━━━━━━━━━━━━━━━━━━━━━━\u001b[0m \u001b[32m401.3/401.3 kB\u001b[0m \u001b[31m9.1 MB/s\u001b[0m eta \u001b[36m0:00:00\u001b[0m:00:01\u001b[0m\n",
      "\u001b[?25hDownloading regex-2024.5.15-cp311-cp311-manylinux_2_17_x86_64.manylinux2014_x86_64.whl (785 kB)\n",
      "\u001b[2K   \u001b[90m━━━━━━━━━━━━━━━━━━━━━━━━━━━━━━━━━━━━━━━━\u001b[0m \u001b[32m785.0/785.0 kB\u001b[0m \u001b[31m9.6 MB/s\u001b[0m eta \u001b[36m0:00:00\u001b[0m:00:01\u001b[0m00:01\u001b[0m\n",
      "\u001b[?25hDownloading safetensors-0.4.3-cp311-cp311-manylinux_2_17_x86_64.manylinux2014_x86_64.whl (1.2 MB)\n",
      "\u001b[2K   \u001b[90m━━━━━━━━━━━━━━━━━━━━━━━━━━━━━━━━━━━━━━━━\u001b[0m \u001b[32m1.2/1.2 MB\u001b[0m \u001b[31m10.1 MB/s\u001b[0m eta \u001b[36m0:00:00\u001b[0ma \u001b[36m0:00:01\u001b[0m\n",
      "\u001b[?25hDownloading tokenizers-0.19.1-cp311-cp311-manylinux_2_17_x86_64.manylinux2014_x86_64.whl (3.6 MB)\n",
      "\u001b[2K   \u001b[90m━━━━━━━━━━━━━━━━━━━━━━━━━━━━━━━━━━━━━━━━\u001b[0m \u001b[32m3.6/3.6 MB\u001b[0m \u001b[31m10.1 MB/s\u001b[0m eta \u001b[36m0:00:00\u001b[0m00:01\u001b[0m00:01\u001b[0m\n",
      "\u001b[?25hDownloading tqdm-4.66.4-py3-none-any.whl (78 kB)\n",
      "\u001b[2K   \u001b[90m━━━━━━━━━━━━━━━━━━━━━━━━━━━━━━━━━━━━━━━━\u001b[0m \u001b[32m78.3/78.3 kB\u001b[0m \u001b[31m10.3 MB/s\u001b[0m eta \u001b[36m0:00:00\u001b[0m\n",
      "\u001b[?25hInstalling collected packages: tqdm, safetensors, regex, huggingface-hub, tokenizers, transformers\n",
      "Successfully installed huggingface-hub-0.23.1 regex-2024.5.15 safetensors-0.4.3 tokenizers-0.19.1 tqdm-4.66.4 transformers-4.41.1\n",
      "\u001b[33mWARNING: Running pip as the 'root' user can result in broken permissions and conflicting behaviour with the system package manager. It is recommended to use a virtual environment instead: https://pip.pypa.io/warnings/venv\u001b[0m\u001b[33m\n",
      "\u001b[0mRequirement already satisfied: numpy in /usr/local/lib/python3.11/dist-packages (1.26.4)\n",
      "\u001b[33mWARNING: Running pip as the 'root' user can result in broken permissions and conflicting behaviour with the system package manager. It is recommended to use a virtual environment instead: https://pip.pypa.io/warnings/venv\u001b[0m\u001b[33m\n",
      "\u001b[0mCollecting accelerate\n",
      "  Downloading accelerate-0.30.1-py3-none-any.whl.metadata (18 kB)\n",
      "Requirement already satisfied: numpy>=1.17 in /usr/local/lib/python3.11/dist-packages (from accelerate) (1.26.4)\n",
      "Requirement already satisfied: packaging>=20.0 in /usr/local/lib/python3.11/dist-packages (from accelerate) (23.2)\n",
      "Requirement already satisfied: psutil in /usr/local/lib/python3.11/dist-packages (from accelerate) (5.9.8)\n",
      "Requirement already satisfied: pyyaml in /usr/local/lib/python3.11/dist-packages (from accelerate) (6.0.1)\n",
      "Requirement already satisfied: torch>=1.10.0 in /usr/local/lib/python3.11/dist-packages (from accelerate) (2.3.0)\n",
      "Requirement already satisfied: huggingface-hub in /usr/local/lib/python3.11/dist-packages (from accelerate) (0.23.1)\n",
      "Requirement already satisfied: safetensors>=0.3.1 in /usr/local/lib/python3.11/dist-packages (from accelerate) (0.4.3)\n",
      "Requirement already satisfied: filelock in /usr/local/lib/python3.11/dist-packages (from torch>=1.10.0->accelerate) (3.14.0)\n",
      "Requirement already satisfied: typing-extensions>=4.8.0 in /usr/local/lib/python3.11/dist-packages (from torch>=1.10.0->accelerate) (4.10.0)\n",
      "Requirement already satisfied: sympy in /usr/local/lib/python3.11/dist-packages (from torch>=1.10.0->accelerate) (1.12)\n",
      "Requirement already satisfied: networkx in /usr/local/lib/python3.11/dist-packages (from torch>=1.10.0->accelerate) (3.3)\n",
      "Requirement already satisfied: jinja2 in /usr/local/lib/python3.11/dist-packages (from torch>=1.10.0->accelerate) (3.1.3)\n",
      "Requirement already satisfied: fsspec in /usr/local/lib/python3.11/dist-packages (from torch>=1.10.0->accelerate) (2024.5.0)\n",
      "Requirement already satisfied: nvidia-cuda-nvrtc-cu12==12.1.105 in /usr/local/lib/python3.11/dist-packages (from torch>=1.10.0->accelerate) (12.1.105)\n",
      "Requirement already satisfied: nvidia-cuda-runtime-cu12==12.1.105 in /usr/local/lib/python3.11/dist-packages (from torch>=1.10.0->accelerate) (12.1.105)\n",
      "Requirement already satisfied: nvidia-cuda-cupti-cu12==12.1.105 in /usr/local/lib/python3.11/dist-packages (from torch>=1.10.0->accelerate) (12.1.105)\n",
      "Requirement already satisfied: nvidia-cudnn-cu12==8.9.2.26 in /usr/local/lib/python3.11/dist-packages (from torch>=1.10.0->accelerate) (8.9.2.26)\n",
      "Requirement already satisfied: nvidia-cublas-cu12==12.1.3.1 in /usr/local/lib/python3.11/dist-packages (from torch>=1.10.0->accelerate) (12.1.3.1)\n",
      "Requirement already satisfied: nvidia-cufft-cu12==11.0.2.54 in /usr/local/lib/python3.11/dist-packages (from torch>=1.10.0->accelerate) (11.0.2.54)\n",
      "Requirement already satisfied: nvidia-curand-cu12==10.3.2.106 in /usr/local/lib/python3.11/dist-packages (from torch>=1.10.0->accelerate) (10.3.2.106)\n",
      "Requirement already satisfied: nvidia-cusolver-cu12==11.4.5.107 in /usr/local/lib/python3.11/dist-packages (from torch>=1.10.0->accelerate) (11.4.5.107)\n",
      "Requirement already satisfied: nvidia-cusparse-cu12==12.1.0.106 in /usr/local/lib/python3.11/dist-packages (from torch>=1.10.0->accelerate) (12.1.0.106)\n",
      "Requirement already satisfied: nvidia-nccl-cu12==2.20.5 in /usr/local/lib/python3.11/dist-packages (from torch>=1.10.0->accelerate) (2.20.5)\n",
      "Requirement already satisfied: nvidia-nvtx-cu12==12.1.105 in /usr/local/lib/python3.11/dist-packages (from torch>=1.10.0->accelerate) (12.1.105)\n",
      "Requirement already satisfied: triton==2.3.0 in /usr/local/lib/python3.11/dist-packages (from torch>=1.10.0->accelerate) (2.3.0)\n",
      "Requirement already satisfied: nvidia-nvjitlink-cu12 in /usr/local/lib/python3.11/dist-packages (from nvidia-cusolver-cu12==11.4.5.107->torch>=1.10.0->accelerate) (12.4.127)\n",
      "Requirement already satisfied: requests in /usr/local/lib/python3.11/dist-packages (from huggingface-hub->accelerate) (2.31.0)\n",
      "Requirement already satisfied: tqdm>=4.42.1 in /usr/local/lib/python3.11/dist-packages (from huggingface-hub->accelerate) (4.66.4)\n",
      "Requirement already satisfied: MarkupSafe>=2.0 in /usr/local/lib/python3.11/dist-packages (from jinja2->torch>=1.10.0->accelerate) (2.1.5)\n",
      "Requirement already satisfied: charset-normalizer<4,>=2 in /usr/local/lib/python3.11/dist-packages (from requests->huggingface-hub->accelerate) (3.3.2)\n",
      "Requirement already satisfied: idna<4,>=2.5 in /usr/local/lib/python3.11/dist-packages (from requests->huggingface-hub->accelerate) (3.6)\n",
      "Requirement already satisfied: urllib3<3,>=1.21.1 in /usr/local/lib/python3.11/dist-packages (from requests->huggingface-hub->accelerate) (2.2.1)\n",
      "Requirement already satisfied: certifi>=2017.4.17 in /usr/local/lib/python3.11/dist-packages (from requests->huggingface-hub->accelerate) (2024.2.2)\n",
      "Requirement already satisfied: mpmath>=0.19 in /usr/local/lib/python3.11/dist-packages (from sympy->torch>=1.10.0->accelerate) (1.3.0)\n",
      "Downloading accelerate-0.30.1-py3-none-any.whl (302 kB)\n",
      "\u001b[2K   \u001b[90m━━━━━━━━━━━━━━━━━━━━━━━━━━━━━━━━━━━━━━━━\u001b[0m \u001b[32m302.6/302.6 kB\u001b[0m \u001b[31m5.0 MB/s\u001b[0m eta \u001b[36m0:00:00\u001b[0ma \u001b[36m0:00:01\u001b[0m\n",
      "\u001b[?25hInstalling collected packages: accelerate\n",
      "Successfully installed accelerate-0.30.1\n",
      "\u001b[33mWARNING: Running pip as the 'root' user can result in broken permissions and conflicting behaviour with the system package manager. It is recommended to use a virtual environment instead: https://pip.pypa.io/warnings/venv\u001b[0m\u001b[33m\n",
      "\u001b[0mCollecting datasets\n",
      "  Downloading datasets-2.19.1-py3-none-any.whl.metadata (19 kB)\n",
      "Requirement already satisfied: filelock in /usr/local/lib/python3.11/dist-packages (from datasets) (3.14.0)\n",
      "Requirement already satisfied: numpy>=1.17 in /usr/local/lib/python3.11/dist-packages (from datasets) (1.26.4)\n",
      "Collecting pyarrow>=12.0.0 (from datasets)\n",
      "  Downloading pyarrow-16.1.0-cp311-cp311-manylinux_2_28_x86_64.whl.metadata (3.0 kB)\n",
      "Collecting pyarrow-hotfix (from datasets)\n",
      "  Downloading pyarrow_hotfix-0.6-py3-none-any.whl.metadata (3.6 kB)\n",
      "Collecting dill<0.3.9,>=0.3.0 (from datasets)\n",
      "  Downloading dill-0.3.8-py3-none-any.whl.metadata (10 kB)\n",
      "Requirement already satisfied: pandas in /usr/local/lib/python3.11/dist-packages (from datasets) (2.2.2)\n",
      "Requirement already satisfied: requests>=2.19.0 in /usr/local/lib/python3.11/dist-packages (from datasets) (2.31.0)\n",
      "Requirement already satisfied: tqdm>=4.62.1 in /usr/local/lib/python3.11/dist-packages (from datasets) (4.66.4)\n",
      "Collecting xxhash (from datasets)\n",
      "  Downloading xxhash-3.4.1-cp311-cp311-manylinux_2_17_x86_64.manylinux2014_x86_64.whl.metadata (12 kB)\n",
      "Collecting multiprocess (from datasets)\n",
      "  Downloading multiprocess-0.70.16-py311-none-any.whl.metadata (7.2 kB)\n",
      "Collecting fsspec<=2024.3.1,>=2023.1.0 (from fsspec[http]<=2024.3.1,>=2023.1.0->datasets)\n",
      "  Downloading fsspec-2024.3.1-py3-none-any.whl.metadata (6.8 kB)\n",
      "Collecting aiohttp (from datasets)\n",
      "  Downloading aiohttp-3.9.5-cp311-cp311-manylinux_2_17_x86_64.manylinux2014_x86_64.whl.metadata (7.5 kB)\n",
      "Requirement already satisfied: huggingface-hub>=0.21.2 in /usr/local/lib/python3.11/dist-packages (from datasets) (0.23.1)\n",
      "Requirement already satisfied: packaging in /usr/local/lib/python3.11/dist-packages (from datasets) (23.2)\n",
      "Requirement already satisfied: pyyaml>=5.1 in /usr/local/lib/python3.11/dist-packages (from datasets) (6.0.1)\n",
      "Collecting aiosignal>=1.1.2 (from aiohttp->datasets)\n",
      "  Downloading aiosignal-1.3.1-py3-none-any.whl.metadata (4.0 kB)\n",
      "Requirement already satisfied: attrs>=17.3.0 in /usr/local/lib/python3.11/dist-packages (from aiohttp->datasets) (23.2.0)\n",
      "Collecting frozenlist>=1.1.1 (from aiohttp->datasets)\n",
      "  Downloading frozenlist-1.4.1-cp311-cp311-manylinux_2_5_x86_64.manylinux1_x86_64.manylinux_2_17_x86_64.manylinux2014_x86_64.whl.metadata (12 kB)\n",
      "Collecting multidict<7.0,>=4.5 (from aiohttp->datasets)\n",
      "  Downloading multidict-6.0.5-cp311-cp311-manylinux_2_17_x86_64.manylinux2014_x86_64.whl.metadata (4.2 kB)\n",
      "Collecting yarl<2.0,>=1.0 (from aiohttp->datasets)\n",
      "  Downloading yarl-1.9.4-cp311-cp311-manylinux_2_17_x86_64.manylinux2014_x86_64.whl.metadata (31 kB)\n",
      "Requirement already satisfied: typing-extensions>=3.7.4.3 in /usr/local/lib/python3.11/dist-packages (from huggingface-hub>=0.21.2->datasets) (4.10.0)\n",
      "Requirement already satisfied: charset-normalizer<4,>=2 in /usr/local/lib/python3.11/dist-packages (from requests>=2.19.0->datasets) (3.3.2)\n",
      "Requirement already satisfied: idna<4,>=2.5 in /usr/local/lib/python3.11/dist-packages (from requests>=2.19.0->datasets) (3.6)\n",
      "Requirement already satisfied: urllib3<3,>=1.21.1 in /usr/local/lib/python3.11/dist-packages (from requests>=2.19.0->datasets) (2.2.1)\n",
      "Requirement already satisfied: certifi>=2017.4.17 in /usr/local/lib/python3.11/dist-packages (from requests>=2.19.0->datasets) (2024.2.2)\n",
      "Requirement already satisfied: python-dateutil>=2.8.2 in /usr/local/lib/python3.11/dist-packages (from pandas->datasets) (2.9.0.post0)\n",
      "Requirement already satisfied: pytz>=2020.1 in /usr/local/lib/python3.11/dist-packages (from pandas->datasets) (2024.1)\n",
      "Requirement already satisfied: tzdata>=2022.7 in /usr/local/lib/python3.11/dist-packages (from pandas->datasets) (2024.1)\n",
      "Requirement already satisfied: six>=1.5 in /usr/lib/python3/dist-packages (from python-dateutil>=2.8.2->pandas->datasets) (1.16.0)\n",
      "Downloading datasets-2.19.1-py3-none-any.whl (542 kB)\n",
      "\u001b[2K   \u001b[90m━━━━━━━━━━━━━━━━━━━━━━━━━━━━━━━━━━━━━━━━\u001b[0m \u001b[32m542.0/542.0 kB\u001b[0m \u001b[31m8.5 MB/s\u001b[0m eta \u001b[36m0:00:00\u001b[0ma \u001b[36m0:00:01\u001b[0m\n",
      "\u001b[?25hDownloading dill-0.3.8-py3-none-any.whl (116 kB)\n",
      "\u001b[2K   \u001b[90m━━━━━━━━━━━━━━━━━━━━━━━━━━━━━━━━━━━━━━━━\u001b[0m \u001b[32m116.3/116.3 kB\u001b[0m \u001b[31m9.2 MB/s\u001b[0m eta \u001b[36m0:00:00\u001b[0m\n",
      "\u001b[?25hDownloading fsspec-2024.3.1-py3-none-any.whl (171 kB)\n",
      "\u001b[2K   \u001b[90m━━━━━━━━━━━━━━━━━━━━━━━━━━━━━━━━━━━━━━━━\u001b[0m \u001b[32m172.0/172.0 kB\u001b[0m \u001b[31m8.1 MB/s\u001b[0m eta \u001b[36m0:00:00\u001b[0m\n",
      "\u001b[?25hDownloading aiohttp-3.9.5-cp311-cp311-manylinux_2_17_x86_64.manylinux2014_x86_64.whl (1.3 MB)\n",
      "\u001b[2K   \u001b[90m━━━━━━━━━━━━━━━━━━━━━━━━━━━━━━━━━━━━━━━━\u001b[0m \u001b[32m1.3/1.3 MB\u001b[0m \u001b[31m10.3 MB/s\u001b[0m eta \u001b[36m0:00:00\u001b[0ma \u001b[36m0:00:01\u001b[0m\n",
      "\u001b[?25hDownloading pyarrow-16.1.0-cp311-cp311-manylinux_2_28_x86_64.whl (40.8 MB)\n",
      "\u001b[2K   \u001b[90m━━━━━━━━━━━━━━━━━━━━━━━━━━━━━━━━━━━━━━━━\u001b[0m \u001b[32m40.8/40.8 MB\u001b[0m \u001b[31m9.8 MB/s\u001b[0m eta \u001b[36m0:00:00\u001b[0m:00:01\u001b[0m00:01\u001b[0m\n",
      "\u001b[?25hDownloading multiprocess-0.70.16-py311-none-any.whl (143 kB)\n",
      "\u001b[2K   \u001b[90m━━━━━━━━━━━━━━━━━━━━━━━━━━━━━━━━━━━━━━━━\u001b[0m \u001b[32m143.5/143.5 kB\u001b[0m \u001b[31m9.4 MB/s\u001b[0m eta \u001b[36m0:00:00\u001b[0m\n",
      "\u001b[?25hDownloading pyarrow_hotfix-0.6-py3-none-any.whl (7.9 kB)\n",
      "Downloading xxhash-3.4.1-cp311-cp311-manylinux_2_17_x86_64.manylinux2014_x86_64.whl (194 kB)\n",
      "\u001b[2K   \u001b[90m━━━━━━━━━━━━━━━━━━━━━━━━━━━━━━━━━━━━━━━━\u001b[0m \u001b[32m194.8/194.8 kB\u001b[0m \u001b[31m10.0 MB/s\u001b[0m eta \u001b[36m0:00:00\u001b[0m\n",
      "\u001b[?25hDownloading aiosignal-1.3.1-py3-none-any.whl (7.6 kB)\n",
      "Downloading frozenlist-1.4.1-cp311-cp311-manylinux_2_5_x86_64.manylinux1_x86_64.manylinux_2_17_x86_64.manylinux2014_x86_64.whl (272 kB)\n",
      "\u001b[2K   \u001b[90m━━━━━━━━━━━━━━━━━━━━━━━━━━━━━━━━━━━━━━━━\u001b[0m \u001b[32m272.3/272.3 kB\u001b[0m \u001b[31m10.7 MB/s\u001b[0m eta \u001b[36m0:00:00\u001b[0m\n",
      "\u001b[?25hDownloading multidict-6.0.5-cp311-cp311-manylinux_2_17_x86_64.manylinux2014_x86_64.whl (128 kB)\n",
      "\u001b[2K   \u001b[90m━━━━━━━━━━━━━━━━━━━━━━━━━━━━━━━━━━━━━━━━\u001b[0m \u001b[32m128.7/128.7 kB\u001b[0m \u001b[31m19.2 MB/s\u001b[0m eta \u001b[36m0:00:00\u001b[0m\n",
      "\u001b[?25hDownloading yarl-1.9.4-cp311-cp311-manylinux_2_17_x86_64.manylinux2014_x86_64.whl (328 kB)\n",
      "\u001b[2K   \u001b[90m━━━━━━━━━━━━━━━━━━━━━━━━━━━━━━━━━━━━━━━━\u001b[0m \u001b[32m328.1/328.1 kB\u001b[0m \u001b[31m10.8 MB/s\u001b[0m eta \u001b[36m0:00:00\u001b[0m\n",
      "\u001b[?25hInstalling collected packages: xxhash, pyarrow-hotfix, pyarrow, multidict, fsspec, frozenlist, dill, yarl, multiprocess, aiosignal, aiohttp, datasets\n",
      "  Attempting uninstall: fsspec\n",
      "    Found existing installation: fsspec 2024.5.0\n",
      "    Uninstalling fsspec-2024.5.0:\n",
      "      Successfully uninstalled fsspec-2024.5.0\n",
      "Successfully installed aiohttp-3.9.5 aiosignal-1.3.1 datasets-2.19.1 dill-0.3.8 frozenlist-1.4.1 fsspec-2024.3.1 multidict-6.0.5 multiprocess-0.70.16 pyarrow-16.1.0 pyarrow-hotfix-0.6 xxhash-3.4.1 yarl-1.9.4\n",
      "\u001b[33mWARNING: Running pip as the 'root' user can result in broken permissions and conflicting behaviour with the system package manager. It is recommended to use a virtual environment instead: https://pip.pypa.io/warnings/venv\u001b[0m\u001b[33m\n",
      "\u001b[0m"
     ]
    }
   ],
   "source": [
    "!pip install transformers \n",
    "!pip install numpy\n",
    "!pip install accelerate\n",
    "!pip install datasets"
   ]
  },
  {
   "cell_type": "code",
   "execution_count": 3,
   "id": "7cea747b-76e0-40a6-8685-89d3e1702efb",
   "metadata": {},
   "outputs": [
    {
     "name": "stdout",
     "output_type": "stream",
     "text": [
      "Requirement already satisfied: torch in /usr/local/lib/python3.11/dist-packages (2.3.0)\n",
      "Requirement already satisfied: torchvision in /usr/local/lib/python3.11/dist-packages (0.18.0)\n",
      "Requirement already satisfied: torchaudio in /usr/local/lib/python3.11/dist-packages (2.3.0)\n",
      "Requirement already satisfied: filelock in /usr/local/lib/python3.11/dist-packages (from torch) (3.14.0)\n",
      "Requirement already satisfied: typing-extensions>=4.8.0 in /usr/local/lib/python3.11/dist-packages (from torch) (4.10.0)\n",
      "Requirement already satisfied: sympy in /usr/local/lib/python3.11/dist-packages (from torch) (1.12)\n",
      "Requirement already satisfied: networkx in /usr/local/lib/python3.11/dist-packages (from torch) (3.3)\n",
      "Requirement already satisfied: jinja2 in /usr/local/lib/python3.11/dist-packages (from torch) (3.1.3)\n",
      "Requirement already satisfied: fsspec in /usr/local/lib/python3.11/dist-packages (from torch) (2024.3.1)\n",
      "Requirement already satisfied: nvidia-cuda-nvrtc-cu12==12.1.105 in /usr/local/lib/python3.11/dist-packages (from torch) (12.1.105)\n",
      "Requirement already satisfied: nvidia-cuda-runtime-cu12==12.1.105 in /usr/local/lib/python3.11/dist-packages (from torch) (12.1.105)\n",
      "Requirement already satisfied: nvidia-cuda-cupti-cu12==12.1.105 in /usr/local/lib/python3.11/dist-packages (from torch) (12.1.105)\n",
      "Requirement already satisfied: nvidia-cudnn-cu12==8.9.2.26 in /usr/local/lib/python3.11/dist-packages (from torch) (8.9.2.26)\n",
      "Requirement already satisfied: nvidia-cublas-cu12==12.1.3.1 in /usr/local/lib/python3.11/dist-packages (from torch) (12.1.3.1)\n",
      "Requirement already satisfied: nvidia-cufft-cu12==11.0.2.54 in /usr/local/lib/python3.11/dist-packages (from torch) (11.0.2.54)\n",
      "Requirement already satisfied: nvidia-curand-cu12==10.3.2.106 in /usr/local/lib/python3.11/dist-packages (from torch) (10.3.2.106)\n",
      "Requirement already satisfied: nvidia-cusolver-cu12==11.4.5.107 in /usr/local/lib/python3.11/dist-packages (from torch) (11.4.5.107)\n",
      "Requirement already satisfied: nvidia-cusparse-cu12==12.1.0.106 in /usr/local/lib/python3.11/dist-packages (from torch) (12.1.0.106)\n",
      "Requirement already satisfied: nvidia-nccl-cu12==2.20.5 in /usr/local/lib/python3.11/dist-packages (from torch) (2.20.5)\n",
      "Requirement already satisfied: nvidia-nvtx-cu12==12.1.105 in /usr/local/lib/python3.11/dist-packages (from torch) (12.1.105)\n",
      "Requirement already satisfied: triton==2.3.0 in /usr/local/lib/python3.11/dist-packages (from torch) (2.3.0)\n",
      "Requirement already satisfied: nvidia-nvjitlink-cu12 in /usr/local/lib/python3.11/dist-packages (from nvidia-cusolver-cu12==11.4.5.107->torch) (12.4.127)\n",
      "Requirement already satisfied: numpy in /usr/local/lib/python3.11/dist-packages (from torchvision) (1.26.4)\n",
      "Requirement already satisfied: pillow!=8.3.*,>=5.3.0 in /usr/local/lib/python3.11/dist-packages (from torchvision) (10.2.0)\n",
      "Requirement already satisfied: MarkupSafe>=2.0 in /usr/local/lib/python3.11/dist-packages (from jinja2->torch) (2.1.5)\n",
      "Requirement already satisfied: mpmath>=0.19 in /usr/local/lib/python3.11/dist-packages (from sympy->torch) (1.3.0)\n",
      "\u001b[33mWARNING: Running pip as the 'root' user can result in broken permissions and conflicting behaviour with the system package manager. It is recommended to use a virtual environment instead: https://pip.pypa.io/warnings/venv\u001b[0m\u001b[33m\n",
      "\u001b[0m"
     ]
    }
   ],
   "source": [
    "!pip3 install torch torchvision torchaudio"
   ]
  },
  {
   "cell_type": "code",
   "execution_count": 4,
   "id": "dc9dc883-aa85-40be-8a40-184dc9ae9d7a",
   "metadata": {},
   "outputs": [
    {
     "name": "stderr",
     "output_type": "stream",
     "text": [
      "2024-05-25 09:51:15.817359: I tensorflow/core/util/port.cc:113] oneDNN custom operations are on. You may see slightly different numerical results due to floating-point round-off errors from different computation orders. To turn them off, set the environment variable `TF_ENABLE_ONEDNN_OPTS=0`.\n",
      "2024-05-25 09:51:15.843598: I tensorflow/core/platform/cpu_feature_guard.cc:210] This TensorFlow binary is optimized to use available CPU instructions in performance-critical operations.\n",
      "To enable the following instructions: AVX2 AVX_VNNI FMA, in other operations, rebuild TensorFlow with the appropriate compiler flags.\n"
     ]
    }
   ],
   "source": [
    "from datasets import load_dataset\n",
    "from transformers import BertTokenizer, BertForSequenceClassification, Trainer, TrainingArguments\n",
    "import torch\n",
    "from sklearn.model_selection import train_test_split\n",
    "from transformers import EvalPrediction\n",
    "from sklearn.metrics import accuracy_score\n",
    "import numpy as np\n"
   ]
  },
  {
   "cell_type": "markdown",
   "id": "733231d7-480c-41d5-b2ab-89963af5d2c6",
   "metadata": {},
   "source": [
    "# Manage Dataset"
   ]
  },
  {
   "cell_type": "code",
   "execution_count": 63,
   "id": "0aee1380-37c5-48df-8fe6-0f15b4cf9829",
   "metadata": {},
   "outputs": [],
   "source": [
    "# Load and tokenize the dataset\n",
    "dataset2 = load_dataset('glue', 'sst2')"
   ]
  },
  {
   "cell_type": "markdown",
   "id": "a79ea085-eed2-4795-bd4d-896509f1368e",
   "metadata": {},
   "source": [
    "# Visualize Dataset"
   ]
  },
  {
   "cell_type": "markdown",
   "id": "db7c27fd-6fad-4834-b990-d6da9552d47f",
   "metadata": {},
   "source": [
    "# BERT SMALL & LARGE INITIALIZATION AND LOADING, MOVING TO CUDA DEVICE"
   ]
  },
  {
   "cell_type": "code",
   "execution_count": 8,
   "id": "94907def-b6af-46a8-8a25-c9c67a491e55",
   "metadata": {},
   "outputs": [],
   "source": [
    "device = torch.device(\"cuda\" if torch.cuda.is_available() else \"cpu\")\n",
    "\n",
    "tokenizer = BertTokenizer.from_pretrained('bert-base-uncased')\n"
   ]
  },
  {
   "cell_type": "code",
   "execution_count": null,
   "id": "f5f1495e-54f0-4716-a415-fafb5e6b5052",
   "metadata": {},
   "outputs": [],
   "source": [
    "\n",
    "teacher_model = BertForSequenceClassification.from_pretrained('bert-large-uncased', num_labels=2)\n",
    "student_model = BertForSequenceClassification.from_pretrained('bert-base-uncased', num_labels=2)\n",
    "\n",
    "teacher_model = teacher_model.to(device)\n",
    "student_model = student_model.to(device)"
   ]
  },
  {
   "cell_type": "code",
   "execution_count": 7,
   "id": "cb718105-7732-425b-93d7-57847e675ddf",
   "metadata": {},
   "outputs": [],
   "source": [
    "# Function to tokenize the data\n",
    "def tokenize_data(example):\n",
    "    return tokenizer(example['sentence'], padding=\"max_length\", truncation=True)\n",
    "\n"
   ]
  },
  {
   "cell_type": "code",
   "execution_count": 9,
   "id": "fa1c4a6f-f148-49bb-902e-03cedc2af61f",
   "metadata": {},
   "outputs": [],
   "source": [
    "# Load and tokenize the dataset\n",
    "dataset = load_dataset('glue', 'sst2')"
   ]
  },
  {
   "cell_type": "code",
   "execution_count": 10,
   "id": "28aa7156-c235-4e73-a2fe-247b811b4dcb",
   "metadata": {},
   "outputs": [
    {
     "data": {
      "text/plain": [
       "DatasetDict({\n",
       "    train: Dataset({\n",
       "        features: ['sentence', 'label', 'idx'],\n",
       "        num_rows: 67349\n",
       "    })\n",
       "    validation: Dataset({\n",
       "        features: ['sentence', 'label', 'idx'],\n",
       "        num_rows: 872\n",
       "    })\n",
       "    test: Dataset({\n",
       "        features: ['sentence', 'label', 'idx'],\n",
       "        num_rows: 1821\n",
       "    })\n",
       "})"
      ]
     },
     "execution_count": 10,
     "metadata": {},
     "output_type": "execute_result"
    }
   ],
   "source": [
    "dataset"
   ]
  },
  {
   "cell_type": "markdown",
   "id": "fe818442-589e-4873-86cb-97b1c0261fb1",
   "metadata": {},
   "source": [
    "# Dataset Mapping"
   ]
  },
  {
   "cell_type": "code",
   "execution_count": 11,
   "id": "8a5bb575-13b8-4f86-bb1b-11e93b362592",
   "metadata": {},
   "outputs": [],
   "source": [
    "\n",
    "dataset = dataset.map(tokenize_data, batched=True)"
   ]
  },
  {
   "cell_type": "markdown",
   "id": "f30ffaa9-bfde-4168-bcbf-b9bf879768c9",
   "metadata": {},
   "source": [
    "# DistillationTraner with Loss of Two Model"
   ]
  },
  {
   "cell_type": "code",
   "execution_count": 19,
   "id": "268655cf-bbde-4b59-a4ac-dcbb9b958228",
   "metadata": {},
   "outputs": [],
   "source": [
    "class DistillationTraner(Trainer):\n",
    "\n",
    "    def compute_loss(self, student_model, inputs, return_outputs=False):\n",
    "        # Move all input tensors to the correct device\n",
    "        inputs = {k: v.to(device) for k, v in inputs.items() if isinstance(v, torch.Tensor)}\n",
    "\n",
    "        # here we do training with student model\n",
    "        outputs_of_students = student_model(**inputs)\n",
    "        student_loss =  outputs_of_students.loss\n",
    "\n",
    "        # here we only inference with teacher model\n",
    "        with torch.no_grad():\n",
    "            teacher_outputs = teacher_model(**inputs)\n",
    "\n",
    "        # distillation loss\n",
    "        distillation_loss = torch.nn.MSELoss()(outputs_of_students.logits, teacher_outputs.logits)\n",
    "\n",
    "        # total_loss \n",
    "        total_loss = student_loss + distillation_loss\n",
    "\n",
    "        return (total_loss, outputs) if return_outputs else total_loss\n",
    "        \n",
    "        "
   ]
  },
  {
   "cell_type": "markdown",
   "id": "0eaf4ba3-26ec-42f9-bf37-0a98216d420c",
   "metadata": {},
   "source": [
    "# Training Arguments needs to be defined carefully, here we will create results , and define some hyperparameters."
   ]
  },
  {
   "cell_type": "markdown",
   "id": "b858a509-bde2-4457-a19c-a54873513711",
   "metadata": {},
   "source": [
    "# Hugging Face\n",
    "This parameter is typically used \n",
    "in conjunction with load_best_model_at_end and evaluation_strategy. Setting load_best_model_at_end to\n",
    "True ensures that the model with the best validation score according to the metric_for_best_model is loaded\n",
    "at the end of training. The evaluation_strategy determines how frequently the model is evaluated during training"
   ]
  },
  {
   "cell_type": "code",
   "execution_count": 17,
   "id": "68d5c2b4-829c-47b1-860b-13395d58360b",
   "metadata": {},
   "outputs": [
    {
     "name": "stderr",
     "output_type": "stream",
     "text": [
      "/usr/local/lib/python3.11/dist-packages/transformers/training_args.py:1474: FutureWarning: `evaluation_strategy` is deprecated and will be removed in version 4.46 of 🤗 Transformers. Use `eval_strategy` instead\n",
      "  warnings.warn(\n"
     ]
    }
   ],
   "source": [
    "training_args = TrainingArguments(\n",
    "    output_dir = './results',\n",
    "    num_train_epochs=1,\n",
    "    per_device_train_batch_size=16,  # Perform evaluation at the end of each epoch\n",
    "    evaluation_strategy=\"epoch\",  # Perform evaluation at the end of each epoch\n",
    "    save_strategy = \"epoch\",  # Save the model at the end of each epoch\n",
    "    logging_dir = './logs',\n",
    "    logging_steps = 10,\n",
    "    load_best_model_at_end=True, # Optional: Load the best model at the end of training Whether or not to load the best model found during training at the end of training. When this option is enabled, the best checkpoint will always be saved. See\n",
    "    metric_for_best_model = 'accuracy'\n",
    ")"
   ]
  },
  {
   "cell_type": "markdown",
   "id": "8afb4ac4-b2cd-4934-a265-8bd56c6bcfaf",
   "metadata": {},
   "source": [
    "# Metrics Calculation\n",
    "compute_metrics (Callable[[EvalPrediction], Dict], optional) — \n",
    "The function that will be used to compute metrics at evaluation. Must take a EvalPrediction and return a dictionary string to metric values. Note When passing TrainingArgs with batch_eval_metrics set to True, your compute_metrics function must take a boolean compute_result argument. This will be triggered after the last eval batch to signal that the function needs to calculate and return the global summary statistics rather than accumulating the batch-level statistics.\n"
   ]
  },
  {
   "cell_type": "code",
   "execution_count": null,
   "id": "72883484-3ab0-4f15-88e7-6451625d3188",
   "metadata": {},
   "outputs": [],
   "source": [
    "def compute_metrics(p:EvalPrediction):\n",
    "    preds = np.argmax(p.predictions, axis=1)\n",
    "    return{\"accuracy\" : accuracy_score(p.labels_ids, preds)} \n",
    "\n",
    "# Initialize the trainer with compute_metrics\n",
    "trainer = DistillationTraner(\n",
    "    model=student_model,\n",
    "    args=training_args,\n",
    "    train_dataset=dataset['train'],  # Ensure you have a train dataset\n",
    "    eval_dataset=dataset['validation'],  # Ensure you have a validation dataset\n",
    "    compute_metrics=compute_metrics,\n",
    ")"
   ]
  },
  {
   "cell_type": "code",
   "execution_count": 18,
   "id": "6d4180a5-e8c8-4a51-af34-bb001893152f",
   "metadata": {},
   "outputs": [
    {
     "data": {
      "text/html": [
       "\n",
       "    <div>\n",
       "      \n",
       "      <progress value='4210' max='4210' style='width:300px; height:20px; vertical-align: middle;'></progress>\n",
       "      [4210/4210 58:29, Epoch 1/1]\n",
       "    </div>\n",
       "    <table border=\"1\" class=\"dataframe\">\n",
       "  <thead>\n",
       " <tr style=\"text-align: left;\">\n",
       "      <th>Epoch</th>\n",
       "      <th>Training Loss</th>\n",
       "      <th>Validation Loss</th>\n",
       "      <th>Accuracy</th>\n",
       "    </tr>\n",
       "  </thead>\n",
       "  <tbody>\n",
       "    <tr>\n",
       "      <td>1</td>\n",
       "      <td>0.723000</td>\n",
       "      <td>0.718285</td>\n",
       "      <td>0.500000</td>\n",
       "    </tr>\n",
       "  </tbody>\n",
       "</table><p>"
      ],
      "text/plain": [
       "<IPython.core.display.HTML object>"
      ]
     },
     "metadata": {},
     "output_type": "display_data"
    },
    {
     "data": {
      "text/plain": [
       "('student_model_bert_fine_tuned/tokenizer_config.json',\n",
       " 'student_model_bert_fine_tuned/special_tokens_map.json',\n",
       " 'student_model_bert_fine_tuned/vocab.txt',\n",
       " 'student_model_bert_fine_tuned/added_tokens.json')"
      ]
     },
     "execution_count": 18,
     "metadata": {},
     "output_type": "execute_result"
    }
   ],
   "source": [
    "trainer.train()\n",
    "student_model.save_pretrained(\"student_model_bert_fine_tuned\")\n",
    "tokenizer.save_pretrained(\"student_model_bert_fine_tuned\")\n"
   ]
  },
  {
   "cell_type": "code",
   "execution_count": 24,
   "id": "0a7536b0-bb67-4d72-b4fb-aa3058788251",
   "metadata": {},
   "outputs": [
    {
     "data": {
      "text/plain": [
       "('teacher_model_bert_fine_tuned/tokenizer_config.json',\n",
       " 'teacher_model_bert_fine_tuned/special_tokens_map.json',\n",
       " 'teacher_model_bert_fine_tuned/vocab.txt',\n",
       " 'teacher_model_bert_fine_tuned/added_tokens.json')"
      ]
     },
     "execution_count": 24,
     "metadata": {},
     "output_type": "execute_result"
    }
   ],
   "source": [
    "teacher_model.save_pretrained(\"teacher_model_bert_fine_tuned\")\n",
    "tokenizer.save_pretrained(\"teacher_model_bert_fine_tuned\")"
   ]
  },
  {
   "cell_type": "code",
   "execution_count": 30,
   "id": "2631449f-9fd4-4d26-b3d0-63d6f2733956",
   "metadata": {},
   "outputs": [
    {
     "name": "stdout",
     "output_type": "stream",
     "text": [
      "/usr/bin/sh: 1: zip: not found\n"
     ]
    }
   ],
   "source": [
    "!zip -r student_model_bert_fine_tuned.zip /tf/tensorflow-tutorials/student_model_bert_fine_tuned"
   ]
  },
  {
   "cell_type": "code",
   "execution_count": 139,
   "id": "7cbe9a7b-3a45-4fbb-a474-0991d969bd90",
   "metadata": {},
   "outputs": [
    {
     "name": "stdout",
     "output_type": "stream",
     "text": [
      "  adding: tf/tensorflow-tutorials/teacher_model_bert_fine_tuned/ (stored 0%)\n",
      "  adding: tf/tensorflow-tutorials/teacher_model_bert_fine_tuned/special_tokens_map.json (deflated 42%)\n",
      "  adding: tf/tensorflow-tutorials/teacher_model_bert_fine_tuned/vocab.txt (deflated 53%)\n",
      "  adding: tf/tensorflow-tutorials/teacher_model_bert_fine_tuned/tokenizer_config.json (deflated 75%)\n",
      "  adding: tf/tensorflow-tutorials/teacher_model_bert_fine_tuned/config.json (deflated 48%)\n",
      "  adding: tf/tensorflow-tutorials/teacher_model_bert_fine_tuned/model.safetensors (deflated 7%)\n"
     ]
    }
   ],
   "source": [
    "!zip -r teacher_model_bert_fine_tuned.zip /tf/tensorflow-tutorials/teacher_model_bert_fine_tuned"
   ]
  },
  {
   "cell_type": "code",
   "execution_count": 21,
   "id": "cbea5ae2-7c57-41b2-855d-a17d3e9f808a",
   "metadata": {},
   "outputs": [
    {
     "name": "stdout",
     "output_type": "stream",
     "text": [
      "Archive:  /tf/tensorflow-tutorials/teacher_model_bert_fine_tuned.zip\n",
      "   creating: ./tf/tensorflow-tutorials/teacher_model_bert_fine_tuned/\n",
      "  inflating: ./tf/tensorflow-tutorials/teacher_model_bert_fine_tuned/special_tokens_map.json  \n",
      "  inflating: ./tf/tensorflow-tutorials/teacher_model_bert_fine_tuned/vocab.txt  \n",
      "  inflating: ./tf/tensorflow-tutorials/teacher_model_bert_fine_tuned/tokenizer_config.json  \n",
      "  inflating: ./tf/tensorflow-tutorials/teacher_model_bert_fine_tuned/config.json  \n",
      "  inflating: ./tf/tensorflow-tutorials/teacher_model_bert_fine_tuned/model.safetensors  \n"
     ]
    }
   ],
   "source": [
    "!unzip /tf/tensorflow-tutorials/teacher_model_bert_fine_tuned.zip -d ."
   ]
  },
  {
   "cell_type": "code",
   "execution_count": 22,
   "id": "ea9d9f98-e41c-4f3b-8d6f-a08ce4a8d39b",
   "metadata": {},
   "outputs": [
    {
     "name": "stdout",
     "output_type": "stream",
     "text": [
      "Archive:  /tf/tensorflow-tutorials/student_model_bert_fine_tuned.zip\n",
      "   creating: ./tf/tensorflow-tutorials/student_model_bert_fine_tuned/\n",
      "  inflating: ./tf/tensorflow-tutorials/student_model_bert_fine_tuned/special_tokens_map.json  \n",
      "  inflating: ./tf/tensorflow-tutorials/student_model_bert_fine_tuned/vocab.txt  \n",
      "  inflating: ./tf/tensorflow-tutorials/student_model_bert_fine_tuned/tokenizer_config.json  \n",
      "  inflating: ./tf/tensorflow-tutorials/student_model_bert_fine_tuned/config.json  \n",
      "  inflating: ./tf/tensorflow-tutorials/student_model_bert_fine_tuned/model.safetensors  \n"
     ]
    }
   ],
   "source": [
    "!unzip /tf/tensorflow-tutorials/student_model_bert_fine_tuned.zip -d ."
   ]
  },
  {
   "cell_type": "markdown",
   "id": "44bd4085-1a46-4017-aaa1-a510ed962e54",
   "metadata": {},
   "source": [
    "# Prepare models FOR INFERENCE"
   ]
  },
  {
   "cell_type": "code",
   "execution_count": 51,
   "id": "b5216c57-df8a-496d-968b-653da6367eb9",
   "metadata": {},
   "outputs": [],
   "source": [
    "import numpy as np\n",
    "import matplotlib.pyplot as plt\n",
    "import seaborn as sns\n",
    "import os\n",
    "import numpy as np\n",
    "import matplotlib.pyplot as plt\n",
    "import seaborn as sns\n",
    "from sklearn.metrics import confusion_matrix, roc_curve, auc\n",
    "\n",
    "class Inference:\n",
    "\n",
    "    def __init__(self, tokenizer_path, base_model_path, student_model_path,ground_truth):\n",
    "        self.__tokenizer_path = tokenizer_path\n",
    "\n",
    "        self.__teacher_model_path  = base_model_path\n",
    "        self.__student_model_path = student_model_path\n",
    "        self.__ground_truth = ground_truth\n",
    "\n",
    "\n",
    "    def load_tokenizer(self):\n",
    "        \n",
    "        tokenizer = BertTokenizer.from_pretrained( self.__tokenizer_path)\n",
    "        \n",
    "        return tokenizer\n",
    "\n",
    "\n",
    "    def load_model(self, model_path):\n",
    "        model = BertForSequenceClassification.from_pretrained(model_path)\n",
    "        \n",
    "        model.eval()\n",
    "\n",
    "        if torch.cuda.is_available():\n",
    "            \n",
    "            model = model.cuda()\n",
    "            \n",
    "        return model\n",
    "\n",
    "    def predict(self, model, inputs):\n",
    "        \n",
    "        with torch.inference_mode():\n",
    "            \n",
    "            outputs = model(**inputs)\n",
    "            \n",
    "            \n",
    "            predictions = torch.argmax(outputs.logits, dim=-1)\n",
    "       \n",
    "        return predictions\n",
    "\n",
    "    \n",
    "    def postprocess(self, predictions, class_names=['Negative', 'Positive']):\n",
    "        \n",
    "        \"\"\" Convert prediction indices to class names. \"\"\"\n",
    "        \n",
    "        classes = [class_names[pred.item()]  for pred in predictions]\n",
    "        \n",
    "        return classes   \n",
    "\n",
    "    def run(self, texts):\n",
    "        tokenizer = self.load_tokenizer()\n",
    "        \n",
    "        student_model = self.load_model(self.__student_model_path)\n",
    "       \n",
    "        teacher_model = self.load_model(self.__teacher_model_path)\n",
    "\n",
    "        results = []\n",
    "        \n",
    "        \n",
    "        all_student_predictions = []\n",
    "        all_teacher_predictions = []\n",
    "        all_ground_truth = []\n",
    "        \n",
    "        for text, label in zip(texts, self.__ground_truth):\n",
    "            encoded_inputs = tokenizer(text, padding=True, truncation=True, return_tensors=\"pt\")\n",
    "            \n",
    "            if torch.cuda.is_available():\n",
    "                encoded_inputs = {k: v.cuda() for k, v in encoded_inputs.items()}\n",
    "\n",
    "            student_predictions = self.predict(student_model, encoded_inputs).detach().cpu()\n",
    "            teacher_predictions = self.predict(teacher_model, encoded_inputs).detach().cpu()\n",
    "           \n",
    "            \n",
    "            all_student_predictions.extend(student_predictions.numpy())\n",
    "            all_teacher_predictions.extend(teacher_predictions.numpy())\n",
    "            all_ground_truth.append(label)\n",
    "            \n",
    "            student_results_human = self.postprocess(student_predictions)\n",
    "            teacher_results_human = self.postprocess(teacher_predictions)\n",
    "\n",
    "            results.append((text, student_results_human, teacher_results_human))\n",
    "            \n",
    "            if 'Positive' in student_results_human and 'Positive' in teacher_results_human:\n",
    "                print(f\"{text}: Student and Teacher results to POSITIVE Feedback\\n\")\n",
    "                print(\"=========================================================\")\n",
    "            \n",
    "            elif 'Positive' in student_results_human or 'Positive' in teacher_results_human:\n",
    "                  print(f\"{text}: Student or Teacher results to POSITIVE Feedback\\n\")\n",
    "                \n",
    "        return results, (all_ground_truth, all_student_predictions, all_teacher_predictions)\n",
    "\n",
    "    def plot(self, y_true, y_pred, model_title, save_dir):\n",
    "        if not os.path.exists(save_dir):\n",
    "            os.makedirs(save_dir)\n",
    "        \n",
    "        # Confusion Matrix\n",
    "        cm = confusion_matrix(y_true, y_pred)\n",
    "        \n",
    "        sns.heatmap(cm, annot=True, fmt=\"d\")\n",
    "        plt.title(f'Confusion Matrix_{model_title}')\n",
    "        plt.ylabel('Actual Label')\n",
    "        plt.xlabel('Predicted Label')\n",
    "        plt_path = os.path.join(save_dir, f'{model_title}_confusion_matrix.png')\n",
    "        plt.savefig(plt_path)\n",
    "        plt.show()\n",
    "       \n",
    "        \n",
    "        # ROC Curve\n",
    "        fpr, tpr, thresholds = roc_curve(y_true, y_pred)\n",
    "        roc_auc = auc(fpr, tpr)\n",
    "        \n",
    "        plt.figure()\n",
    "        lw = 2\n",
    "        plt.plot(fpr, tpr, color='darkorange', lw=lw, label='ROC curve (area = %0.2f)' % roc_auc)\n",
    "        plt.plot([0, 1], [0, 1], color='navy', lw=lw, linestyle='--')\n",
    "        plt.xlim([0.0, 1.0])\n",
    "        plt.ylim([0.0, 1.05])\n",
    "        plt.xlabel('False Positive Rate')\n",
    "        plt.ylabel('True Positive Rate')\n",
    "        plt_path = os.path.join(save_dir, f'{model_title}_roc_curve.png')\n",
    "        plt.title('Receiver Operating Characteristic')\n",
    "        plt.legend(loc=\"lower right\")\n",
    "        plt.savefig(plt_path)\n",
    "        plt.show()\n",
    "       \n",
    "                "
   ]
  },
  {
   "cell_type": "code",
   "execution_count": 57,
   "id": "abd731d9-bcf2-4738-b529-f1ded32ca3bb",
   "metadata": {},
   "outputs": [],
   "source": [
    "tokenizer_path = '/tf/tensorflow-tutorials/tf/tensorflow-tutorials/student_model_bert_fine_tuned/'\n",
    "student_model = '/tf/tensorflow-tutorials/tf/tensorflow-tutorials/student_model_bert_fine_tuned/'\n",
    "teacher_model = '/tf/tensorflow-tutorials/tf/tensorflow-tutorials/teacher_model_bert_fine_tuned'\n",
    "\n",
    "inference_engine = Inference(tokenizer_path,teacher_model, student_model, dataset['train']['label'][0:100])"
   ]
  },
  {
   "cell_type": "code",
   "execution_count": 58,
   "id": "dc63144f-750a-4395-b651-9f5d0b410507",
   "metadata": {},
   "outputs": [
    {
     "name": "stdout",
     "output_type": "stream",
     "text": [
      "comes from the brave , uninhibited performances : Student or Teacher results to POSITIVE Feedback\n",
      "\n",
      "covers this territory with wit and originality , suggesting that with his fourth feature : Student or Teacher results to POSITIVE Feedback\n",
      "\n"
     ]
    }
   ],
   "source": [
    "results, (all_ground_truth, all_student_predictions, all_teacher_predictions) = inference_engine.run(dataset['train']['sentence'][0:100])"
   ]
  },
  {
   "cell_type": "markdown",
   "id": "563b3360-f2bf-4cbe-ac61-b04d902ac66a",
   "metadata": {},
   "source": [
    "# CONVERT LIST TO NUMPY ARRAY"
   ]
  },
  {
   "cell_type": "code",
   "execution_count": 59,
   "id": "487c46f5-11db-4fb7-859a-70f573529185",
   "metadata": {},
   "outputs": [],
   "source": [
    "all_ground_truth, all_student_predictions, all_teacher_predictions = np.array(all_ground_truth), np.array( all_student_predictions), np.array(all_teacher_predictions)"
   ]
  },
  {
   "cell_type": "code",
   "execution_count": 60,
   "id": "6e28111c-c17d-458c-a3f6-7ef7162ca54a",
   "metadata": {},
   "outputs": [
    {
     "data": {
      "text/plain": [
       "numpy.ndarray"
      ]
     },
     "execution_count": 60,
     "metadata": {},
     "output_type": "execute_result"
    }
   ],
   "source": [
    "type(all_ground_truth)"
   ]
  },
  {
   "cell_type": "markdown",
   "id": "3af1d0d2-64f5-4cf3-9952-927d95b7ba15",
   "metadata": {},
   "source": [
    "# plot confusion matrix and roc curve"
   ]
  },
  {
   "cell_type": "code",
   "execution_count": 61,
   "id": "a487eca9-e728-475b-a595-a2bbcca9bf8c",
   "metadata": {},
   "outputs": [
    {
     "data": {
      "image/png": "[encoded data removed]",
      "text/plain": [
       "<Figure size 640x480 with 2 Axes>"
      ]
     },
     "metadata": {},
     "output_type": "display_data"
    },
    {
     "data": {
      "image/png": "[encoded data removed]",
      "text/plain": [
       "<Figure size 640x480 with 1 Axes>"
      ]
     },
     "metadata": {},
     "output_type": "display_data"
    },
    {
     "data": {
      "image/png": "[encoded data removed]",
      "text/plain": [
       "<Figure size 640x480 with 2 Axes>"
      ]
     },
     "metadata": {},
     "output_type": "display_data"
    },
    {
     "data": {
      "image/png": "[encoded data removed]",
      "text/plain": [
       "<Figure size 640x480 with 1 Axes>"
      ]
     },
     "metadata": {},
     "output_type": "display_data"
    }
   ],
   "source": [
    "# Plot for student model\n",
    "inference_engine.plot(all_ground_truth,  all_student_predictions, 'Student-Model', 'plots')\n",
    "# Plot for teacher model\n",
    "inference_engine.plot(all_ground_truth, all_teacher_predictions, 'Teacher-Model', 'plots')\n",
    "   \n",
    "    "
   ]
  },
  {
   "cell_type": "code",
   "execution_count": 62,
   "id": "367c3d3c-55f9-4f2b-ae24-c1abf8897f23",
   "metadata": {},
   "outputs": [
    {
     "data": {
      "text/plain": [
       "(array([0, 1]), array([51, 49]))"
      ]
     },
     "execution_count": 62,
     "metadata": {},
     "output_type": "execute_result"
    }
   ],
   "source": [
    "unique, counts = np.unique(all_ground_truth, return_counts=True)\n",
    "unique, counts"
   ]
  },
  {
   "cell_type": "markdown",
   "id": "666dc151-5261-455b-8cb8-2191dac3623a",
   "metadata": {},
   "source": [
    "# CONGRATULATONS"
   ]
  },
  {
   "cell_type": "code",
   "execution_count": null,
   "id": "25c8f5e9-6c48-49b8-8e2f-d4f08de29bc2",
   "metadata": {},
   "outputs": [],
   "source": []
  }
 ],
 "metadata": {
  "kernelspec": {
   "display_name": "Python 3 (ipykernel)",
   "language": "python",
   "name": "python3"
  },
  "language_info": {
   "codemirror_mode": {
    "name": "ipython",
    "version": 3
   },
   "file_extension": ".py",
   "mimetype": "text/x-python",
   "name": "python",
   "nbconvert_exporter": "python",
   "pygments_lexer": "ipython3",
   "version": "3.11.0rc1"
  }
 },
 "nbformat": 4,
 "nbformat_minor": 5
}
